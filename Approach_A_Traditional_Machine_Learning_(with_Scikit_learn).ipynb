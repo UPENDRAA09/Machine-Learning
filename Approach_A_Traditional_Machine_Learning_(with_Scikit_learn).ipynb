{
  "nbformat": 4,
  "nbformat_minor": 0,
  "metadata": {
    "colab": {
      "provenance": [],
      "authorship_tag": "ABX9TyOlunaimFrRVTmAEU9/J3l8",
      "include_colab_link": true
    },
    "kernelspec": {
      "name": "python3",
      "display_name": "Python 3"
    },
    "language_info": {
      "name": "python"
    }
  },
  "cells": [
    {
      "cell_type": "markdown",
      "metadata": {
        "id": "view-in-github",
        "colab_type": "text"
      },
      "source": [
        "<a href=\"https://colab.research.google.com/github/UPENDRAA09/Machine-Learning/blob/main/Approach_A_Traditional_Machine_Learning_(with_Scikit_learn).ipynb\" target=\"_parent\"><img src=\"https://colab.research.google.com/assets/colab-badge.svg\" alt=\"Open In Colab\"/></a>"
      ]
    },
    {
      "cell_type": "markdown",
      "source": [
        "# Approach A: Traditional Machine Learning (with Scikit-learn)\n",
        "This approach typically involves extracting hand-crafted features from the images.\n",
        "# 1. Data Loading and Initial Inspection\n",
        "Python\n"
      ],
      "metadata": {
        "id": "lipMDlgfqZWY"
      }
    },
    {
      "cell_type": "code",
      "execution_count": 4,
      "metadata": {
        "colab": {
          "base_uri": "https://localhost:8080/"
        },
        "id": "k4585kwTqQoM",
        "outputId": "2e592e93-ba8c-415f-8c27-cf66d62a6590"
      },
      "outputs": [
        {
          "output_type": "stream",
          "name": "stdout",
          "text": [
            "Total images found: 10\n",
            "Sample labels: ['bank_statements', 'bank_statements', 'bank_statements', 'bank_statements', 'bank_statements']\n",
            "Label mapping: {np.str_('bank_statements'): np.int64(0), np.str_('invoices'): np.int64(1)}\n"
          ]
        }
      ],
      "source": [
        "import os\n",
        "import cv2\n",
        "import numpy as np\n",
        "from sklearn.model_selection import train_test_split\n",
        "from sklearn.preprocessing import LabelEncoder\n",
        "from skimage.feature import hog # Popular for traditional ML\n",
        "from skimage import exposure # For HOG visualization\n",
        "import matplotlib.pyplot as plt\n",
        "\n",
        "# Create dummy data directories and files for demonstration\n",
        "base_dir = \"financial_documents_data\"\n",
        "os.makedirs(os.path.join(base_dir, \"bank_statements\"), exist_ok=True)\n",
        "os.makedirs(os.path.join(base_dir, \"invoices\"), exist_ok=True)\n",
        "\n",
        "# Generate a few dummy images\n",
        "for i in range(5):\n",
        "    bs_img = create_dummy_document_image(size=(300, 500)) # Smaller for faster processing\n",
        "    inv_img = create_dummy_document_image(size=(300, 500))\n",
        "    cv2.putText(bs_img, \"BANK STATEMENT\", (50, 50), cv2.FONT_HERSHEY_SIMPLEX, 0.8, (0, 0, 0), 2)\n",
        "    cv2.putText(inv_img, \"INVOICE\", (50, 50), cv2.FONT_HERSHEY_SIMPLEX, 0.8, (0, 0, 0), 2)\n",
        "    cv2.imwrite(os.path.join(base_dir, \"bank_statements\", f\"bs_{i:03d}.png\"), bs_img)\n",
        "    cv2.imwrite(os.path.join(base_dir, \"invoices\", f\"inv_{i:03d}.png\"), inv_img)\n",
        "\n",
        "# Load image paths and labels\n",
        "image_paths = []\n",
        "labels = []\n",
        "for label_name in [\"bank_statements\", \"invoices\"]:\n",
        "    label_dir = os.path.join(base_dir, label_name)\n",
        "    for img_name in os.listdir(label_dir):\n",
        "        image_paths.append(os.path.join(label_dir, img_name))\n",
        "        labels.append(label_name)\n",
        "\n",
        "print(f\"Total images found: {len(image_paths)}\")\n",
        "print(f\"Sample labels: {labels[:5]}\")\n",
        "\n",
        "# Encode labels to numerical format\n",
        "le = LabelEncoder()\n",
        "numerical_labels = le.fit_transform(labels)\n",
        "label_mapping = dict(zip(le.classes_, le.transform(le.classes_)))\n",
        "print(f\"Label mapping: {label_mapping}\")\n"
      ]
    },
    {
      "cell_type": "code",
      "metadata": {
        "id": "29afb6d6"
      },
      "source": [
        "def create_dummy_document_image(size=(600, 800), color=(255, 255, 255)):\n",
        "    \"\"\"Creates a blank dummy image representing a document.\"\"\"\n",
        "    img = np.full((*size, 3), color, dtype=np.uint8)\n",
        "    return img"
      ],
      "execution_count": 3,
      "outputs": []
    },
    {
      "cell_type": "markdown",
      "source": [
        "# 2. Pre-processing Pipeline Function\n",
        "This function will encapsulate the common pre-processing steps.\n",
        "Python"
      ],
      "metadata": {
        "id": "LeztwL8ArMZL"
      }
    },
    {
      "cell_type": "code",
      "source": [
        "\n",
        "def preprocess_document_image(image_path, target_size=(128, 128)):\n",
        "    \"\"\"\n",
        "    Applies a series of OpenCV pre-processing steps to a document image.\n",
        "    Args:\n",
        "        image_path (str): Path to the image file.\n",
        "        target_size (tuple): Desired output size (width, height).\n",
        "    Returns:\n",
        "        np.array: Processed image array.\n",
        "    \"\"\"\n",
        "    img = cv2.imread(image_path)\n",
        "    if img is None:\n",
        "        print(f\"Warning: Could not read image {image_path}. Skipping.\")\n",
        "        return None\n",
        "\n",
        "    # Step 1: Deskew (using the function defined earlier)\n",
        "    img_deskewed, _ = deskew_image(img) # Returns the deskewed image and angle\n",
        "    # The deskewed image might have different dimensions, so we resize it afterwards.\n",
        "\n",
        "    # Step 2: Convert to Grayscale\n",
        "    gray = cv2.cvtColor(img_deskewed, cv2.COLOR_BGR2GRAY)\n",
        "\n",
        "    # Step 3: Noise Reduction (Median Blur is good for scanned docs)\n",
        "    denoised = cv2.medianBlur(gray, 5)\n",
        "\n",
        "    # Step 4: Binarization (Adaptive Thresholding for varying light)\n",
        "    binary = cv2.adaptiveThreshold(denoised, 255, cv2.ADAPTIVE_THRESH_GAUSSIAN_C,\n",
        "                                   cv2.THRESH_BINARY, 11, 2)\n",
        "    # Invert binary if text is black on white (typical for documents)\n",
        "    binary = cv2.bitwise_not(binary) # Text becomes white, background black\n",
        "\n",
        "    # Step 5: Resize to target size for feature extraction\n",
        "    # Ensure it's resized last to maintain consistent input to feature extractor\n",
        "    processed_image = cv2.resize(binary, target_size, interpolation=cv2.INTER_AREA)\n",
        "\n",
        "    return processed_image\n",
        "\n",
        "# Apply pre-processing to all images\n",
        "processed_images = []\n",
        "processed_labels = []\n",
        "for i, path in enumerate(image_paths):\n",
        "    processed_img = preprocess_document_image(path)\n",
        "    if processed_img is not None:\n",
        "        processed_images.append(processed_img)\n",
        "        processed_labels.append(numerical_labels[i])\n",
        "\n",
        "X = np.array(processed_images)\n",
        "y = np.array(processed_labels)\n",
        "\n",
        "print(f\"Shape of processed images (X): {X.shape}\") # (num_samples, height, width)\n",
        "print(f\"Shape of labels (y): {y.shape}\") # (num_samples,)\n",
        "\n",
        "# Show a sample pre-processed image\n",
        "if len(X) > 0:\n",
        "    show_image(\"Sample Pre-processed Image (Binary, Deskewed, Resized)\", X[0])\n"
      ],
      "metadata": {
        "colab": {
          "base_uri": "https://localhost:8080/",
          "height": 557
        },
        "id": "PpxFIyqAq-Hb",
        "outputId": "357ff161-b951-4e0b-c48f-bcf48ce75fa5"
      },
      "execution_count": 7,
      "outputs": [
        {
          "output_type": "stream",
          "name": "stdout",
          "text": [
            "Shape of processed images (X): (10, 128, 128)\n",
            "Shape of labels (y): (10,)\n"
          ]
        },
        {
          "output_type": "display_data",
          "data": {
            "text/plain": [
              "<Figure size 600x600 with 1 Axes>"
            ],
            "image/png": "[encoded data removed]"
          },
          "metadata": {}
        }
      ]
    },
    {
      "cell_type": "code",
      "metadata": {
        "id": "9324773f"
      },
      "source": [
        "import math\n",
        "\n",
        "def deskew_image(image):\n",
        "    \"\"\"\n",
        "    Corrects the skew of a document image.\n",
        "    Args:\n",
        "        image (np.array): Input image array.\n",
        "    Returns:\n",
        "        tuple: A tuple containing the deskewed image array and the calculated angle.\n",
        "    \"\"\"\n",
        "    # Convert to grayscale if not already\n",
        "    if len(image.shape) == 3:\n",
        "        gray = cv2.cvtColor(image, cv2.COLOR_BGR2GRAY)\n",
        "    else:\n",
        "        gray = image\n",
        "\n",
        "    # Invert the image (assuming text is black on white)\n",
        "    gray = cv2.bitwise_not(gray)\n",
        "\n",
        "    # Thresholding to get a binary image\n",
        "    thresh = cv2.threshold(gray, 0, 255, cv2.THRESH_BINARY + cv2.THRESH_OTSU)[1]\n",
        "\n",
        "    # Find contours (optional, but can help focus on text areas)\n",
        "    # contours, _ = cv2.findContours(thresh.copy(), cv2.RETR_LIST, cv2.CHAIN_APPROX_SIMPLE)\n",
        "    # You could potentially use the orientation of the largest contour\n",
        "\n",
        "    # Find coordinates of non-zero pixels\n",
        "    coords = np.column_stack(np.where(thresh > 0))\n",
        "\n",
        "    # Find the minimum area bounding box of the non-zero pixels\n",
        "    angle = cv2.minAreaRect(coords)[-1]\n",
        "\n",
        "    # The angle returned by minAreaRect is in the range [-90, 0).\n",
        "    # Adjust the angle based on the box orientation\n",
        "    if angle < -45:\n",
        "        angle = -(90 + angle)\n",
        "    else:\n",
        "        angle = -angle\n",
        "\n",
        "    # Get the rotation matrix\n",
        "    (h, w) = image.shape[:2]\n",
        "    center = (w // 2, h // 2)\n",
        "    M = cv2.getRotationMatrix2D(center, angle, 1.0)\n",
        "\n",
        "    # Perform the rotation\n",
        "    deskewed = cv2.warpAffine(image, M, (w, h), flags=cv2.INTER_CUBIC, borderMode=cv2.BORDER_REPLICATE)\n",
        "\n",
        "    return deskewed, angle\n",
        "\n",
        "def show_image(title, img):\n",
        "    \"\"\"Displays an image using matplotlib.\"\"\"\n",
        "    plt.figure(figsize=(6, 6))\n",
        "    plt.imshow(img, cmap='gray' if len(img.shape) == 2 else None)\n",
        "    plt.title(title)\n",
        "    plt.axis('off')\n",
        "    plt.show()"
      ],
      "execution_count": 6,
      "outputs": []
    },
    {
      "cell_type": "markdown",
      "source": [
        "3. Feature Extraction (Traditional ML - HOG)\n",
        "Here, we'll extract Histogram of Oriented Gradients (HOG) features, which are popular for shape and texture information.\n",
        "Python\n"
      ],
      "metadata": {
        "id": "J9iXSNQ1rlYV"
      }
    },
    {
      "cell_type": "code",
      "source": [
        "# Function to extract HOG features\n",
        "def extract_hog_features(image):\n",
        "    # HOG parameters (can be tuned)\n",
        "    # orientations: number of bins for orientation\n",
        "    # pixels_per_cell: size of the cell (px, px)\n",
        "    # cells_per_block: size of the block (cells, cells)\n",
        "    # transform_sqrt: apply power law compression (gamma correction) to normalize pixel values\n",
        "    features = hog(image, orientations=9, pixels_per_cell=(8, 8),\n",
        "                   cells_per_block=(2, 2), transform_sqrt=True, block_norm='L2-Hys')\n",
        "    return features\n",
        "\n",
        "# Extract features for all pre-processed images\n",
        "features_list = []\n",
        "for img in X:\n",
        "    features_list.append(extract_hog_features(img))\n",
        "\n",
        "X_features = np.array(features_list)\n",
        "print(f\"Shape of extracted features (X_features): {X_features.shape}\") # (num_samples, num_features)\n"
      ],
      "metadata": {
        "colab": {
          "base_uri": "https://localhost:8080/"
        },
        "id": "6Kjd5VP7rd-z",
        "outputId": "d5210e3a-e067-4cac-a0d9-2a7517b89a37"
      },
      "execution_count": 8,
      "outputs": [
        {
          "output_type": "stream",
          "name": "stdout",
          "text": [
            "Shape of extracted features (X_features): (10, 8100)\n"
          ]
        }
      ]
    },
    {
      "cell_type": "markdown",
      "source": [
        "# 4. Model Training (Traditional ML - Support Vector Machine)\n",
        "Python\n"
      ],
      "metadata": {
        "id": "LHr0pKogsCpR"
      }
    },
    {
      "cell_type": "code",
      "source": [
        "from sklearn.svm import SVC\n",
        "from sklearn.metrics import classification_report, accuracy_score, confusion_matrix\n",
        "\n",
        "# Split data into training and testing sets\n",
        "X_train, X_test, y_train, y_test = train_test_split(X_features, y, test_size=0.2, random_state=42)\n",
        "\n",
        "print(f\"Train features shape: {X_train.shape}\")\n",
        "print(f\"Test features shape: {X_test.shape}\")\n",
        "\n",
        "# Initialize and train a Support Vector Machine classifier\n",
        "print(\"\\nTraining SVM Classifier...\")\n",
        "svm_model = SVC(kernel='linear', C=1.0, random_state=42) # 'linear' kernel often good for text-based features\n",
        "svm_model.fit(X_train, y_train)\n",
        "print(\"Training complete.\")\n",
        "\n",
        "# Make predictions\n",
        "y_pred = svm_model.predict(X_test)\n"
      ],
      "metadata": {
        "colab": {
          "base_uri": "https://localhost:8080/"
        },
        "id": "JIFh89jVreBn",
        "outputId": "db02052a-6b61-434a-cf10-aed8109170e7"
      },
      "execution_count": 9,
      "outputs": [
        {
          "output_type": "stream",
          "name": "stdout",
          "text": [
            "Train features shape: (8, 8100)\n",
            "Test features shape: (2, 8100)\n",
            "\n",
            "Training SVM Classifier...\n",
            "Training complete.\n"
          ]
        }
      ]
    },
    {
      "cell_type": "markdown",
      "source": [
        "# 5. Model Evaluation\n",
        "Python\n"
      ],
      "metadata": {
        "id": "_ILXzokcsNpd"
      }
    },
    {
      "cell_type": "code",
      "source": [
        "print(\"\\n--- SVM Model Evaluation ---\")\n",
        "print(f\"Accuracy: {accuracy_score(y_test, y_pred):.4f}\")\n",
        "print(\"\\nClassification Report:\")\n",
        "print(classification_report(y_test, y_pred, target_names=le.classes_))\n",
        "print(\"\\nConfusion Matrix:\")\n",
        "print(confusion_matrix(y_test, y_pred))\n",
        "\n",
        "# Note: With only 10 dummy images, evaluation metrics will be highly unreliable.\n",
        "# For real-world scenarios, you need hundreds or thousands of images per class.\n"
      ],
      "metadata": {
        "colab": {
          "base_uri": "https://localhost:8080/"
        },
        "id": "B3cIgizfsJmn",
        "outputId": "8ee6337f-bf16-4f26-db46-916f7ab99c98"
      },
      "execution_count": 10,
      "outputs": [
        {
          "output_type": "stream",
          "name": "stdout",
          "text": [
            "\n",
            "--- SVM Model Evaluation ---\n",
            "Accuracy: 1.0000\n",
            "\n",
            "Classification Report:\n",
            "                 precision    recall  f1-score   support\n",
            "\n",
            "bank_statements       1.00      1.00      1.00         1\n",
            "       invoices       1.00      1.00      1.00         1\n",
            "\n",
            "       accuracy                           1.00         2\n",
            "      macro avg       1.00      1.00      1.00         2\n",
            "   weighted avg       1.00      1.00      1.00         2\n",
            "\n",
            "\n",
            "Confusion Matrix:\n",
            "[[1 0]\n",
            " [0 1]]\n"
          ]
        }
      ]
    },
    {
      "cell_type": "markdown",
      "source": [
        "# 6. Prediction on New Data\n",
        "Python"
      ],
      "metadata": {
        "id": "AsoGioAXsscT"
      }
    },
    {
      "cell_type": "code",
      "source": [
        "\n",
        "# Load a new unseen image (e.g., one of the dummy images, or a new one)\n",
        "new_image_path = os.path.join(base_dir, \"bank_statements\", \"bs_001.png\") # Example path\n",
        "\n",
        "# Pre-process the new image\n",
        "unseen_processed_img = preprocess_document_image(new_image_path)\n",
        "if unseen_processed_img is None:\n",
        "    print(\"Could not process the new image.\")\n",
        "else:\n",
        "    # Extract features\n",
        "    unseen_features = extract_hog_features(unseen_processed_img)\n",
        "    unseen_features = unseen_features.reshape(1, -1) # Reshape for single prediction\n",
        "\n",
        "    # Make prediction\n",
        "    prediction = svm_model.predict(unseen_features)\n",
        "    predicted_class = le.inverse_transform(prediction)[0]\n",
        "\n",
        "    show_image(f\"New Image to Classify: Predicted as {predicted_class}\", cv2.imread(new_image_path))\n",
        "    print(f\"\\nPredicted class for {os.path.basename(new_image_path)}: {predicted_class}\")\n",
        "\n",
        "# Clean up dummy data (optional)\n",
        "# import shutil\n",
        "# if os.path.exists(base_dir):\n",
        "#     shutil.rmtree(base_dir)\n"
      ],
      "metadata": {
        "colab": {
          "base_uri": "https://localhost:8080/",
          "height": 374
        },
        "id": "bVw-AiaOsg4S",
        "outputId": "e3b74ac5-080c-4e8a-ec0f-a7ef0ba7a74b"
      },
      "execution_count": 11,
      "outputs": [
        {
          "output_type": "display_data",
          "data": {
            "text/plain": [
              "<Figure size 600x600 with 1 Axes>"
            ],
            "image/png": "[encoded data removed]"
          },
          "metadata": {}
        },
        {
          "output_type": "stream",
          "name": "stdout",
          "text": [
            "\n",
            "Predicted class for bs_001.png: bank_statements\n"
          ]
        }
      ]
    }
  ]
}